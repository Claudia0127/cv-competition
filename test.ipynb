{
  "nbformat": 4,
  "nbformat_minor": 0,
  "metadata": {
    "colab": {
      "provenance": []
    },
    "kernelspec": {
      "name": "python3",
      "display_name": "Python 3"
    },
    "language_info": {
      "name": "python"
    }
  },
  "cells": [
    {
      "cell_type": "code",
      "source": [
        "# call library\n",
        "# kaggle 기준 해당 .ipynb파일이 작동하는 것을 확인했습니다. 만약, 로컬환경에서 실행할 예정이라면, 아래 링크를 활용해서 설치해주세요.\n",
        "# https://pytorch.org/get-started/previous-versions/\n",
        "# 로컬에서 테스트된 환경은 다음과 같습니다. pytorch 2.0.0 with python=3.9, cuda=11.7, cudnn=8.0, torchvision==0.15.0\n",
        "import numpy as np\n",
        "import pandas as pd\n",
        "import matplotlib.pyplot as plt\n",
        "from sklearn.metrics import roc_curve, auc\n",
        "\n",
        "import torch, torchvision\n",
        "import torch.nn.functional as F\n",
        "from torch import nn, optim\n",
        "from torchvision import transforms, datasets"
      ],
      "metadata": {
        "id": "J82fbtVDipE8"
      },
      "execution_count": null,
      "outputs": []
    },
    {
      "cell_type": "code",
      "source": [
        "# hyperparameter setting\n",
        "# https://pytorch.org/tutorials/beginner/basics/optimization_tutorial.html\n",
        "EPOCH = 5\n",
        "BATCH_SIZE = 4\n",
        "LEARNING_RATE = 0.005\n",
        "\n",
        "# Computational device\n",
        "# Device will be set to GPU if it is available.(you should install valid Pytorch version with CUDA. Otherwise, it will be computed using CPU)\n",
        "USE_CUDA = torch.cuda.is_available()\n",
        "DEVICE = torch.device(\"cuda\" if USE_CUDA else \"cpu\")\n",
        "print(\"Using Device:\", DEVICE)"
      ],
      "metadata": {
        "id": "lCe9T5REiqmr"
      },
      "execution_count": null,
      "outputs": []
    },
    {
      "cell_type": "code",
      "source": [
        "# Fashion MNIST dataset\n",
        "# https://pytorch.org/tutorials/beginner/basics/data_tutorial.html\n",
        "# dataset detail\n",
        "# https://github.com/zalandoresearch/fashion-mnist\n",
        "trainset = datasets.FashionMNIST(\n",
        "    root      = './.data/',\n",
        "    train     = True,\n",
        "    download  = True,\n",
        "    transform = transforms.ToTensor()\n",
        ")\n",
        "testset = datasets.FashionMNIST(\n",
        "    root      = './.data/',\n",
        "    train     = False,\n",
        "    download  = True,\n",
        "    transform = transforms.ToTensor()\n",
        ")"
      ],
      "metadata": {
        "id": "BS9VCoHNisCF"
      },
      "execution_count": null,
      "outputs": []
    },
    {
      "cell_type": "code",
      "source": [
        "# basic autoencoder\n",
        "class Autoencoder(nn.Module):\n",
        "    def __init__(self):\n",
        "        super(Autoencoder, self).__init__()\n",
        "\n",
        "        self.encoder = nn.Sequential(\n",
        "            nn.Linear(28*28, 128),\n",
        "            nn.ReLU(),\n",
        "            nn.Linear(128, 2),\n",
        "        )\n",
        "        self.decoder = nn.Sequential(\n",
        "            nn.Linear(2, 128),\n",
        "            nn.ReLU(),\n",
        "            nn.Linear(128, 28*28),\n",
        "            nn.Sigmoid(),\n",
        "        )\n",
        "\n",
        "    def forward(self, x):\n",
        "        encoded = self.encoder(x)\n",
        "        decoded = self.decoder(encoded)\n",
        "        return encoded, decoded"
      ],
      "metadata": {
        "id": "6MU6DQMdiudR"
      },
      "execution_count": null,
      "outputs": []
    },
    {
      "cell_type": "code",
      "source": [
        "# Set for data loader\n",
        "# https://pytorch.org/tutorials/beginner/basics/data_tutorial.html\n",
        "SELECT_NORMAL = 2 # Set 2 class as train dataset.\n",
        "trainset.data = trainset.data[trainset.targets == SELECT_NORMAL]\n",
        "trainset.targets = trainset.targets[trainset.targets == SELECT_NORMAL]\n",
        "\n",
        "train_loader = torch.utils.data.DataLoader(\n",
        "    dataset     = trainset,\n",
        "    batch_size  = BATCH_SIZE,\n",
        "    shuffle     = True,\n",
        "    num_workers = 2\n",
        ")\n",
        "\n",
        "test_label = [2,4,6] # Define actual test class that we use\n",
        "actual_testdata = torch.isin(testset.targets, torch.tensor(test_label))\n",
        "testset.data = testset.data[actual_testdata]\n",
        "testset.targets = testset.targets[actual_testdata]\n",
        "\n",
        "test_loader = torch.utils.data.DataLoader(\n",
        "    dataset     = testset,\n",
        "    batch_size  = 1,\n",
        "    shuffle     = False,\n",
        "    num_workers = 2\n",
        ")"
      ],
      "metadata": {
        "id": "V7vsovkCiwHV"
      },
      "execution_count": null,
      "outputs": []
    },
    {
      "cell_type": "code",
      "source": [
        "# To visualize training procedure\n",
        "view_data = []\n",
        "for i in test_label:\n",
        "    view_data.append(testset.data[testset.targets == i][0].view(28*28))\n",
        "view_data = torch.Tensor(np.array(view_data))\n",
        "view_data = view_data.type(torch.FloatTensor)/255."
      ],
      "metadata": {
        "id": "HOLTR0gvixyd"
      },
      "execution_count": null,
      "outputs": []
    },
    {
      "cell_type": "code",
      "source": [
        "# Initialization of autoencoder and loss function\n",
        "# https://pytorch.org/tutorials/beginner/basics/optimization_tutorial.html\n",
        "autoencoder = Autoencoder().to(DEVICE) # generating instance of model that you build.\n",
        "print(autoencoder) # you can check your model\n",
        "optimizer = torch.optim.Adam(autoencoder.parameters(), lr=LEARNING_RATE) # if you want to utilie other optimizer, replace Adam to other.\n",
        "criterion = nn.MSELoss() # you can change loss function."
      ],
      "metadata": {
        "id": "QpDKwxgkizkd"
      },
      "execution_count": null,
      "outputs": []
    },
    {
      "cell_type": "code",
      "source": [
        "# Training function\n",
        "# https://pytorch.org/tutorials/beginner/introyt/trainingyt.html\n",
        "def train(autoencoder, train_loader):\n",
        "    autoencoder.train()\n",
        "    for step, (x, label) in enumerate(train_loader):\n",
        "        x = x.view(-1, 28*28).to(DEVICE)\n",
        "        y = x.view(-1, 28*28).to(DEVICE)\n",
        "\n",
        "        encoded, decoded = autoencoder(x)\n",
        "\n",
        "        loss = criterion(decoded, y)\n",
        "        optimizer.zero_grad()\n",
        "        loss.backward()\n",
        "        optimizer.step()"
      ],
      "metadata": {
        "id": "33nt1_0ui3qR"
      },
      "execution_count": null,
      "outputs": []
    },
    {
      "cell_type": "code",
      "source": [
        "# Training process including visualization\n",
        "for epoch in range(1, EPOCH+1):\n",
        "    train(autoencoder, train_loader)\n",
        "\n",
        "    test_x = view_data.to(DEVICE)\n",
        "    _, decoded_data = autoencoder(test_x)\n",
        "\n",
        "    f, a = plt.subplots(2, len(test_label), figsize=(len(test_label), 2))\n",
        "    print(\"[Epoch {}]\".format(epoch))\n",
        "    for i in range(len(test_label)):\n",
        "        img = np.reshape(view_data.data.numpy()[i],(28, 28))\n",
        "        a[0][i].imshow(img, cmap='gray')\n",
        "        a[0][i].set_xticks(()); a[0][i].set_yticks(())\n",
        "        if(i == 0): a[0][i].set_ylabel('Input')\n",
        "\n",
        "    for i in range(len(test_label)):\n",
        "        img = np.reshape(decoded_data.to(\"cpu\").data.numpy()[i], (28, 28))\n",
        "        a[1][i].imshow(img, cmap='gray')\n",
        "        a[1][i].set_xticks(()); a[1][i].set_yticks(())\n",
        "        if(i == 0): a[1][i].set_ylabel('Output')\n",
        "    plt.show()"
      ],
      "metadata": {
        "id": "HzTkj0bpi4P5"
      },
      "execution_count": null,
      "outputs": []
    },
    {
      "cell_type": "code",
      "source": [
        "# Test\n",
        "THRESHOLDVAL=0.01 # threshold val\n",
        "dic_loss = {'id':[], 'label':[], 'score':[],'normal':[]}\n",
        "\n",
        "count=0\n",
        "for step, (x, label) in enumerate(test_loader):\n",
        "    x = x.view(-1, 28*28).to(DEVICE)\n",
        "    y = x.view(-1, 28*28).to(DEVICE)\n",
        "\n",
        "    encoded, decoded = autoencoder(x)\n",
        "    loss = float(criterion(decoded, y).cpu().detach().numpy())\n",
        "    dic_loss['id'].append(step)\n",
        "    dic_loss['label'].append(int(label==SELECT_NORMAL)) # 1: normal, 0: abnormal\n",
        "    dic_loss['score'].append(loss) # abnormal score\n",
        "    if loss>THRESHOLDVAL: dic_loss['normal'].append('0')\n",
        "    else: dic_loss['normal'].append('1')\n"
      ],
      "metadata": {
        "id": "KfETR1JHi-hh"
      },
      "execution_count": null,
      "outputs": []
    },
    {
      "cell_type": "code",
      "source": [
        "# Gernerating a plot\n",
        "arr_label = np.array(dic_loss['label'])\n",
        "arr_score = np.array(dic_loss['score'])\n",
        "score_min = arr_score.min()\n",
        "score_max = arr_score.max()\n",
        "plt.hist(arr_score[np.where(arr_label == 1)[0]], bins=30, range=(score_min, score_max), alpha=0.5, label='Normal')\n",
        "plt.hist(arr_score[np.where(arr_label == 0)[0]], bins=30, range=(score_min, score_max), alpha=0.5, label='Abnormal')\n",
        "plt.xlabel(\"Anomaly score\")\n",
        "plt.ylabel(\"Frequency\")\n",
        "plt.axvline(THRESHOLDVAL,0,1, color='red',linestyle='--',linewidth=1)\n",
        "plt.legend(loc='upper right')\n",
        "plt.savefig(\"plot.png\")\n",
        "plt.show()"
      ],
      "metadata": {
        "id": "_iMlC4RwjDIC"
      },
      "execution_count": null,
      "outputs": []
    },
    {
      "cell_type": "code",
      "source": [
        "# Generating AUROC\n",
        "#https://scikit-learn.org/stable/modules/generated/sklearn.metrics.roc_curve.html\n",
        "#https://scikit-learn.org/stable/modules/generated/sklearn.metrics.auc.html\n",
        "fpr, tpr, thresholds = roc_curve(dic_loss['label'], dic_loss['score'], pos_label=0)\n",
        "plt.plot(fpr, tpr)\n",
        "plt.xlabel(\"FPR\")\n",
        "plt.ylabel(\"TPR\")\n",
        "plt.savefig(\"auroc.png\")\n",
        "plt.show()\n",
        "auroc = auc(fpr, tpr)\n",
        "print(\"AUROC: {}\".format(auroc))"
      ],
      "metadata": {
        "id": "SKePgLlwjElT"
      },
      "execution_count": null,
      "outputs": []
    },
    {
      "cell_type": "code",
      "source": [],
      "metadata": {
        "id": "iMMvRLLujGco"
      },
      "execution_count": null,
      "outputs": []
    }
  ]
}